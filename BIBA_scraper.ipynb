{
 "cells": [
  {
   "cell_type": "code",
   "execution_count": 62,
   "metadata": {},
   "outputs": [],
   "source": [
    "from bs4 import BeautifulSoup\n",
    "import requests\n",
    "import pandas as pd\n",
    "import numpy as np"
   ]
  },
  {
   "cell_type": "code",
   "execution_count": 63,
   "metadata": {},
   "outputs": [],
   "source": [
    "URL =\"https://www.biba.in/kurtas-and-tops/kurtas/?\""
   ]
  },
  {
   "cell_type": "code",
   "execution_count": 64,
   "metadata": {},
   "outputs": [],
   "source": [
    "HEADERS = ({'User-Agent':'': 'en-US, en;q=0.5'})"
   ]
  },
  {
   "cell_type": "code",
   "execution_count": 65,
   "metadata": {},
   "outputs": [],
   "source": [
    "# Function to extract Product Title\n",
    "def get_title(soup):\n",
    "\n",
    "    try:\n",
    "        title_element = soup.find('h3', class_='pdp-link')\n",
    "        title_string = title_element.get_text(strip=True)\n",
    "\n",
    "    except AttributeError:\n",
    "        title_string = \"\"\n",
    "\n",
    "    return title_string\n",
    "\n",
    "# print(get_title(soup=soup))"
   ]
  },
  {
   "cell_type": "code",
   "execution_count": 66,
   "metadata": {},
   "outputs": [],
   "source": [
    "def get_pid(soup):\n",
    "    # Find the div with class 'product-tile' and get the value of 'data-pid' attribute\n",
    "    product_div = soup.find('div', class_='product-tile')\n",
    "    pid = product_div.get('data-pid')\n",
    "    return pid\n",
    "    # print(\"Product ID:\", pid)"
   ]
  },
  {
   "cell_type": "code",
   "execution_count": 67,
   "metadata": {},
   "outputs": [],
   "source": [
    "# Function to extract Product Price\n",
    "def get_price(soup):\n",
    "\n",
    "    try:\n",
    "        price_element = soup.find('span', class_='sales')\n",
    "        price = price_element.get_text(strip=True)\n",
    "        # print(\"Price:\", price)\n",
    "        \n",
    "\n",
    "    except AttributeError:\n",
    "        price= None\n",
    "\n",
    "    return price"
   ]
  },
  {
   "cell_type": "code",
   "execution_count": 68,
   "metadata": {},
   "outputs": [],
   "source": [
    "# Function to extract Product Price\n",
    "def get_discount(soup):\n",
    "\n",
    "    try:\n",
    "        discount_element = soup.find('span', class_='product-discount')\n",
    "        discount = discount_element.get_text(strip=True)\n",
    "        # print(\"Discount:\", discount)\n",
    "        \n",
    "\n",
    "    except AttributeError:\n",
    "        discount= None\n",
    "\n",
    "    return discount"
   ]
  },
  {
   "cell_type": "code",
   "execution_count": 69,
   "metadata": {},
   "outputs": [],
   "source": [
    "# div_lst=soup.findAll(\"div\", class_= \"col-6 col-sm-6 col-md-3\")\n",
    "# len(div_lst)"
   ]
  },
  {
   "cell_type": "code",
   "execution_count": 70,
   "metadata": {},
   "outputs": [
    {
     "name": "stdout",
     "output_type": "stream",
     "text": [
      "                  Product_Id  \\\n",
      "0          MNTGE19372AW23BRN   \n",
      "1        COLORPO19315SS23PNK   \n",
      "2          ASRTD19754AW23NVY   \n",
      "3        JAMAWAR20167SS24BLU   \n",
      "4      ASSORTED20018SS24TEAL   \n",
      "5        JAMAWAR20171SS24BRN   \n",
      "6       ASSORTED20616SS24MRN   \n",
      "7     CHINTZPOP20226SS24OWHT   \n",
      "8   ASSORTED20405SS24YELTEAL   \n",
      "9     TOPSTUNICS20193SS24PNK   \n",
      "10   SUMMERSTPLS20260SS24WHT   \n",
      "11   BOHOSTORY20139SS24LILAC   \n",
      "\n",
      "                                                Title      Price Discount  \n",
      "0   Brown LIVA Straight Printed KurtaBrown LIVA St...     ₹1,399  30% OFF  \n",
      "1   Pink Cotton Straight Embroidered KurtaPink Cot...     ₹2,099  30% OFF  \n",
      "2   Navy LIVA Straight Printed KurtaNavy LIVA Stra...       ₹909  30% OFF  \n",
      "3   Blue Viscose Straight KurtaBlue Viscose Straig...  MRP₹1,799     None  \n",
      "4   Teal Cotton Straight KurtaTeal Cotton Straight...  MRP₹1,599     None  \n",
      "5   Brown Viscose Straight KurtaBrown Viscose Stra...  MRP₹1,799     None  \n",
      "6   Maroon Rayon Straight KurtaMaroon Rayon Straig...  MRP₹1,299     None  \n",
      "7   Off White Cotton Straight KurtaOff White Cotto...  MRP₹1,599     None  \n",
      "8   Yellow Teal Polyester Straight KurtaYellow Tea...  MRP₹1,999     None  \n",
      "9   Pink Rayon Straight KurtaPink Rayon Straight K...  MRP₹1,599     None  \n",
      "10  White Rayon Straight KurtaWhite Rayon Straight...  MRP₹2,999     None  \n",
      "11  Lilac Rayon Straight KurtaLilac Rayon Straight...  MRP₹1,599     None  \n"
     ]
    }
   ],
   "source": [
    "# Function to extract product data\n",
    "def extract_product_data(url):\n",
    "    webpage = requests.get(url=URL, headers= HEADERS)\n",
    "    soup= BeautifulSoup(webpage.content, \"html.parser\")\n",
    "    products = soup.findAll(\"div\", class_= \"col-6 col-sm-6 col-md-3\")\n",
    "\n",
    "    product_data = []\n",
    "\n",
    "    for product in products:\n",
    "        pid = get_pid(product)\n",
    "        title = get_title(product)\n",
    "        price = get_price(product)\n",
    "        discount = get_discount(product)\n",
    "\n",
    "        product_info = {\n",
    "            'Product_Id': pid,\n",
    "            'Title': title,\n",
    "            'Price': price,\n",
    "            'Discount': discount\n",
    "        }\n",
    "\n",
    "        product_data.append(product_info)\n",
    "\n",
    "    return product_data\n",
    "\n",
    "# Extract product data from the webpage\n",
    "product_data = extract_product_data(soup)\n",
    "\n",
    "# Convert the list of dictionaries into a DataFrame\n",
    "df = pd.DataFrame(product_data)\n",
    "\n",
    "# Print the DataFrame\n",
    "print(df)\n"
   ]
  },
  {
   "cell_type": "code",
   "execution_count": 71,
   "metadata": {},
   "outputs": [],
   "source": [
    "# Function to scrape data from multiple pages\n",
    "def scrape_all_pages(base_url, num_pages):\n",
    "    all_data = []\n",
    "\n",
    "    for page in range(1, num_pages + 1):\n",
    "        url = f\"{base_url}&page={page}\"  # Append page number to the base URL\n",
    "        data = extract_product_data(url)\n",
    "        all_data.extend(data)\n",
    "\n",
    "    return all_data"
   ]
  },
  {
   "cell_type": "code",
   "execution_count": 75,
   "metadata": {},
   "outputs": [],
   "source": [
    "all_data= scrape_all_pages(base_url= URL, num_pages=65)"
   ]
  },
  {
   "cell_type": "code",
   "execution_count": 77,
   "metadata": {},
   "outputs": [],
   "source": [
    "# Save the DataFrame to a CSV file\n",
    "df= pd.DataFrame(all_data)\n",
    "df.to_csv('biba_products.csv', index=False)"
   ]
  },
  {
   "cell_type": "code",
   "execution_count": null,
   "metadata": {},
   "outputs": [],
   "source": []
  }
 ],
 "metadata": {
  "kernelspec": {
   "display_name": "venv-web-scrape",
   "language": "python",
   "name": "python3"
  },
  "language_info": {
   "codemirror_mode": {
    "name": "ipython",
    "version": 3
   },
   "file_extension": ".py",
   "mimetype": "text/x-python",
   "name": "python",
   "nbconvert_exporter": "python",
   "pygments_lexer": "ipython3",
   "version": "3.11.0"
  }
 },
 "nbformat": 4,
 "nbformat_minor": 2
}
